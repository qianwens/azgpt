{
 "cells": [
  {
   "cell_type": "code",
   "execution_count": 10,
   "metadata": {},
   "outputs": [],
   "source": [
    "import os\n",
    "import openai\n",
    "import sys\n",
    "from dotenv import load_dotenv, find_dotenv\n",
    "_ = load_dotenv(find_dotenv())\n",
    "\n",
    "openai.api_key  = os.environ['OPENAI_API_KEY']\n",
    "openai.api_base = os.environ['OPENAI_API_BASE']\n",
    "openai.api_type = \"azure\"\n",
    "openai.api_version = \"2023-03-15-preview\"\n"
   ]
  },
  {
   "cell_type": "code",
   "execution_count": 11,
   "metadata": {},
   "outputs": [],
   "source": [
    "def get_completion_from_messages(messages, \n",
    "                                 model=\"gpt-35-turbo\", \n",
    "                                 temperature=0, max_tokens=500):\n",
    "    response = openai.ChatCompletion.create(\n",
    "        model=model,\n",
    "        messages=messages,\n",
    "        temperature=temperature, \n",
    "        max_tokens=max_tokens, \n",
    "        engine=\"gpt-35-turbo\",\n",
    "        \n",
    "    )\n",
    "    return response.choices[0].message[\"content\"]"
   ]
  },
  {
   "cell_type": "code",
   "execution_count": 12,
   "metadata": {},
   "outputs": [
    {
     "name": "stdout",
     "output_type": "stream",
     "text": [
      "[{'category': 'create resource', 'resources_types': ['web app']}]\n"
     ]
    }
   ],
   "source": [
    "delimiter = \"####\"\n",
    "system_message = f\"\"\"\n",
    "You are azure service management assistant. You will be provided with customer service queries. \\\n",
    "The customer service query will be delimited with \\\n",
    "#### characters.\n",
    "Output a python list of objects, where each object has \\\n",
    "the following format:\n",
    "    'category': <one of create resource, \\\n",
    "    connect resources, \\\n",
    "    find resource, \\\n",
    "    monitor resource, \n",
    "    cleanup resource>,\n",
    "OR\n",
    "    'resources_types': <a list of products that must \\\n",
    "    be found in the allowed products below>\n",
    "\n",
    "step1: find the category of the request\n",
    "step2: find the resource types mentioned in the request where the resources_types must be associated with \\\n",
    "the correct category in the allowed resource types list below.\n",
    "If no resources_types or categories are found, output an empty list.\n",
    "\n",
    "Allowed resource types: \n",
    "\n",
    "create resource category:\n",
    "web app\n",
    "storage\n",
    "container app\n",
    "mysql\n",
    "\n",
    "connect resources category:\n",
    "web app\n",
    "storage\n",
    "container app\n",
    "mysql\n",
    "\n",
    "Only output the list of objects, with nothing else.\n",
    "\"\"\"\n",
    "user_message = f\"\"\"\n",
    "I want to create a web app\n",
    "\"\"\"\n",
    "messages =  [  \n",
    "{'role':'system', \n",
    " 'content': system_message},    \n",
    "{'role':'user', \n",
    " 'content': f\"{delimiter}{user_message}{delimiter}\"},  \n",
    "] \n",
    "category_and_resource_response_1 = get_completion_from_messages(messages)\n",
    "print(category_and_resource_response_1)"
   ]
  }
 ],
 "metadata": {
  "kernelspec": {
   "display_name": ".venv",
   "language": "python",
   "name": "python3"
  },
  "language_info": {
   "codemirror_mode": {
    "name": "ipython",
    "version": 3
   },
   "file_extension": ".py",
   "mimetype": "text/x-python",
   "name": "python",
   "nbconvert_exporter": "python",
   "pygments_lexer": "ipython3",
   "version": "3.8.6"
  },
  "orig_nbformat": 4
 },
 "nbformat": 4,
 "nbformat_minor": 2
}
